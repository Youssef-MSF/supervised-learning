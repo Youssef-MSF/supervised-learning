{
  "cells": [
    {
      "cell_type": "markdown",
      "metadata": {
        "id": "c_fUknicFsCN"
      },
      "source": [
        "<center><h1 style='color:blue'>Atelier 2: Apprentissage supervisé avec Python</h1></center>\n",
        "\n",
        "* Data Preprocessing (données hétérogènes, données manquantes, etc.)\n",
        "* Feature engineering\n",
        "* Feature selection\n",
        "* Classification\n",
        "* Evaluation de la qualité d'un classifieur\n"
      ]
    },
    {
      "cell_type": "code",
      "source": [],
      "metadata": {
        "id": "Oy07NycpGmXG"
      },
      "execution_count": null,
      "outputs": []
    },
    {
      "cell_type": "code",
      "execution_count": null,
      "metadata": {
        "id": "R4gOeM0MFsCS"
      },
      "outputs": [],
      "source": [
        "# Importations des packages\n",
        "import pandas as pd\n",
        "import matplotlib.pyplot as plt \n",
        "import numpy as np\n",
        "from sklearn.model_selection import train_test_split, GridSearchCV, cross_val_score, cross_validate, KFold\n",
        "from sklearn.tree import DecisionTreeClassifier\n",
        "from sklearn import metrics\n",
        "from sklearn.neighbors import KNeighborsClassifier\n",
        "from sklearn.neural_network import MLPClassifier\n",
        "from sklearn.tree import export_graphviz\n",
        "import graphviz\n",
        "import pydotplus\n",
        "from sklearn.preprocessing import StandardScaler, MinMaxScaler\n",
        "from sklearn.decomposition import PCA, TruncatedSVD\n",
        "from sklearn.ensemble import RandomForestClassifier\n",
        "from sklearn.model_selection import GridSearchCV\n",
        "import warnings\n",
        "from sklearn.pipeline import Pipeline\n",
        "from sklearn.ensemble import BaggingClassifier, AdaBoostClassifier\n",
        "from sklearn.naive_bayes import GaussianNB\n",
        "from sklearn.feature_extraction.text import CountVectorizer, TfidfVectorizer \n",
        "warnings.filterwarnings(\"ignore\")"
      ]
    },
    {
      "cell_type": "code",
      "execution_count": null,
      "metadata": {
        "id": "SZOsRKMXFsCV"
      },
      "outputs": [],
      "source": [
        "def display_confusion_matrix(Y_test, y_pred):\n",
        "    \"\"\"\n",
        "        Display Confusion Matrix given y_test and y_pred \n",
        "    \"\"\"\n",
        "    confusion_matrix = metrics.confusion_matrix(Y_test, y_pred)\n",
        "    cm_display = metrics.ConfusionMatrixDisplay(confusion_matrix=confusion_matrix, display_labels=[0, 1])\n",
        "    cm_display.plot()\n",
        "    plt.show()\n",
        "\n",
        "def model_trainer(X_train, Y_train, X_test, Y_test):\n",
        "    # instanciation d'un modèle d'arbre de décision   \n",
        "    m_tree = DecisionTreeClassifier() \n",
        "\n",
        "    # instanciation d'un modèle de KNN \n",
        "    m_knn = KNeighborsClassifier(n_neighbors=5)\n",
        "\n",
        "    # instanciation d'un modèle de MLP \n",
        "    mlp_classifier = MLPClassifier(hidden_layer_sizes=(40, 20), random_state=1)\n",
        "    \n",
        "    m_tree.fit(X_train, Y_train)\n",
        "    m_knn.fit(X_train, Y_train)\n",
        "    mlp_classifier.fit(X_train, Y_train)\n",
        "    y_pred_cart = m_tree.predict(X_test)\n",
        "    y_pred_knn  = m_knn.predict(X_test)\n",
        "    y_pred_mlp  = mlp_classifier.predict(X_test)\n",
        "    \n",
        "    accuracy_cart = metrics.accuracy_score(Y_test, y_pred_cart)\n",
        "    precision_cart = metrics.precision_score(Y_test, y_pred_cart) \n",
        "\n",
        "    accuracy_knn = metrics.accuracy_score(Y_test, y_pred_knn)\n",
        "    precision_knn = metrics.precision_score(Y_test, y_pred_knn)\n",
        "\n",
        "    accuracy_mlp = metrics.accuracy_score(Y_test, y_pred_mlp)\n",
        "    precision_mlp = metrics.precision_score(Y_test, y_pred_mlp)\n",
        "\n",
        "    labels = ['cart', 'knn', 'mlp']\n",
        "    prec_scores = [precision_cart, precision_knn, precision_mlp]\n",
        "    acc_scores = [accuracy_cart, accuracy_knn, accuracy_mlp]\n",
        "    d = {'classifier': labels, 'Precision': prec_scores, 'Accuracy': acc_scores}\n",
        "    df = pd.DataFrame(d)\n",
        "    \n",
        "    return df\n",
        "\n",
        "class FeatureSelection:\n",
        "    \"\"\"\n",
        "        Class For feature selection with random forest\n",
        "    \"\"\"\n",
        "    def __init__(self, model):\n",
        "        self.clf = RandomForestClassifier(n_estimators=100)\n",
        "        self.model = model\n",
        "        self.importances = None\n",
        "        self.sorted_idx = None\n",
        "        self.nbr_features_selected = None\n",
        "    def fit(self, X, Y):\n",
        "        self.clf.fit(X, Y)\n",
        "        self.importances=self.clf.feature_importances_\n",
        "        self.sorted_idx = np.argsort(self.importances)[::-1]\n",
        "        scores=np.zeros(X.shape[1]+1)\n",
        "        for f in np.arange(0, X.shape[1]+1):\n",
        "            X1_f = X_train[:,sorted_idx[:f+1]]\n",
        "            X2_f = X_test[:,sorted_idx[:f+1]]\n",
        "            self.model.fit(X1_f,Y_train)\n",
        "            Y_mlp=self.model.predict(X2_f)\n",
        "            scores[f]=np.round(metrics.accuracy_score(Y_test,Y_mlp),3)\n",
        "        self.nbr_features_selected = np.argmax(scores) \n",
        "        \n",
        "    def transform(self, X):\n",
        "        return  X[:,self.sorted_idx[:7+1]]"
      ]
    },
    {
      "cell_type": "markdown",
      "metadata": {
        "id": "PKf90tV0FsCX"
      },
      "source": [
        "<h2> I- Apprentissage supervisé: Feature engineering et classification</h2>"
      ]
    },
    {
      "cell_type": "markdown",
      "metadata": {
        "id": "e-8beFG4FsCY"
      },
      "source": [
        " * MLP\n",
        "    * Normalisation \n",
        "    * 7 variables"
      ]
    },
    {
      "cell_type": "markdown",
      "metadata": {
        "id": "PLmxUQj-FsCZ"
      },
      "source": [
        "### 1- Chargement des données et préparation"
      ]
    },
    {
      "cell_type": "markdown",
      "metadata": {
        "id": "GuM6PCDWFsCZ"
      },
      "source": [
        "* base de données credit_scoring.csv: évaluation de la solvabilité d'un client souhaitant souscrire à un credit."
      ]
    },
    {
      "cell_type": "code",
      "execution_count": null,
      "metadata": {
        "id": "qtShcYIfFsCa"
      },
      "outputs": [],
      "source": [
        "# Importation des données\n",
        "data = pd.read_csv('./credit_scoring.csv', sep=';')"
      ]
    },
    {
      "cell_type": "code",
      "execution_count": null,
      "metadata": {
        "scrolled": true,
        "colab": {
          "base_uri": "https://localhost:8080/",
          "height": 206
        },
        "id": "9855Aap_FsCb",
        "outputId": "ea9f446f-aae9-4c82-9b79-3f02195631bb"
      },
      "outputs": [
        {
          "output_type": "execute_result",
          "data": {
            "text/plain": [
              "   Seniority  Home  Time   Age  Marital  Records  Job  Expenses  Income  \\\n",
              "0        9.0   1.0  60.0  30.0      0.0      1.0  1.0      73.0   129.0   \n",
              "1       17.0   1.0  60.0  58.0      1.0      1.0  0.0      48.0   131.0   \n",
              "2       10.0   0.0  36.0  46.0      0.0      2.0  1.0      90.0   200.0   \n",
              "3        0.0   1.0  60.0  24.0      1.0      1.0  0.0      63.0   182.0   \n",
              "4        0.0   1.0  36.0  26.0      1.0      1.0  0.0      46.0   107.0   \n",
              "\n",
              "   Assets  Debt  Amount   Price  Status  \n",
              "0     0.0   0.0   800.0   846.0       1  \n",
              "1     0.0   0.0  1000.0  1658.0       1  \n",
              "2  3000.0   0.0  2000.0  2985.0       0  \n",
              "3  2500.0   0.0   900.0  1325.0       1  \n",
              "4     0.0   0.0   310.0   910.0       1  "
            ],
            "text/html": [
              "\n",
              "  <div id=\"df-bd8b377c-ddae-4d15-9bce-9eeffef601e3\">\n",
              "    <div class=\"colab-df-container\">\n",
              "      <div>\n",
              "<style scoped>\n",
              "    .dataframe tbody tr th:only-of-type {\n",
              "        vertical-align: middle;\n",
              "    }\n",
              "\n",
              "    .dataframe tbody tr th {\n",
              "        vertical-align: top;\n",
              "    }\n",
              "\n",
              "    .dataframe thead th {\n",
              "        text-align: right;\n",
              "    }\n",
              "</style>\n",
              "<table border=\"1\" class=\"dataframe\">\n",
              "  <thead>\n",
              "    <tr style=\"text-align: right;\">\n",
              "      <th></th>\n",
              "      <th>Seniority</th>\n",
              "      <th>Home</th>\n",
              "      <th>Time</th>\n",
              "      <th>Age</th>\n",
              "      <th>Marital</th>\n",
              "      <th>Records</th>\n",
              "      <th>Job</th>\n",
              "      <th>Expenses</th>\n",
              "      <th>Income</th>\n",
              "      <th>Assets</th>\n",
              "      <th>Debt</th>\n",
              "      <th>Amount</th>\n",
              "      <th>Price</th>\n",
              "      <th>Status</th>\n",
              "    </tr>\n",
              "  </thead>\n",
              "  <tbody>\n",
              "    <tr>\n",
              "      <th>0</th>\n",
              "      <td>9.0</td>\n",
              "      <td>1.0</td>\n",
              "      <td>60.0</td>\n",
              "      <td>30.0</td>\n",
              "      <td>0.0</td>\n",
              "      <td>1.0</td>\n",
              "      <td>1.0</td>\n",
              "      <td>73.0</td>\n",
              "      <td>129.0</td>\n",
              "      <td>0.0</td>\n",
              "      <td>0.0</td>\n",
              "      <td>800.0</td>\n",
              "      <td>846.0</td>\n",
              "      <td>1</td>\n",
              "    </tr>\n",
              "    <tr>\n",
              "      <th>1</th>\n",
              "      <td>17.0</td>\n",
              "      <td>1.0</td>\n",
              "      <td>60.0</td>\n",
              "      <td>58.0</td>\n",
              "      <td>1.0</td>\n",
              "      <td>1.0</td>\n",
              "      <td>0.0</td>\n",
              "      <td>48.0</td>\n",
              "      <td>131.0</td>\n",
              "      <td>0.0</td>\n",
              "      <td>0.0</td>\n",
              "      <td>1000.0</td>\n",
              "      <td>1658.0</td>\n",
              "      <td>1</td>\n",
              "    </tr>\n",
              "    <tr>\n",
              "      <th>2</th>\n",
              "      <td>10.0</td>\n",
              "      <td>0.0</td>\n",
              "      <td>36.0</td>\n",
              "      <td>46.0</td>\n",
              "      <td>0.0</td>\n",
              "      <td>2.0</td>\n",
              "      <td>1.0</td>\n",
              "      <td>90.0</td>\n",
              "      <td>200.0</td>\n",
              "      <td>3000.0</td>\n",
              "      <td>0.0</td>\n",
              "      <td>2000.0</td>\n",
              "      <td>2985.0</td>\n",
              "      <td>0</td>\n",
              "    </tr>\n",
              "    <tr>\n",
              "      <th>3</th>\n",
              "      <td>0.0</td>\n",
              "      <td>1.0</td>\n",
              "      <td>60.0</td>\n",
              "      <td>24.0</td>\n",
              "      <td>1.0</td>\n",
              "      <td>1.0</td>\n",
              "      <td>0.0</td>\n",
              "      <td>63.0</td>\n",
              "      <td>182.0</td>\n",
              "      <td>2500.0</td>\n",
              "      <td>0.0</td>\n",
              "      <td>900.0</td>\n",
              "      <td>1325.0</td>\n",
              "      <td>1</td>\n",
              "    </tr>\n",
              "    <tr>\n",
              "      <th>4</th>\n",
              "      <td>0.0</td>\n",
              "      <td>1.0</td>\n",
              "      <td>36.0</td>\n",
              "      <td>26.0</td>\n",
              "      <td>1.0</td>\n",
              "      <td>1.0</td>\n",
              "      <td>0.0</td>\n",
              "      <td>46.0</td>\n",
              "      <td>107.0</td>\n",
              "      <td>0.0</td>\n",
              "      <td>0.0</td>\n",
              "      <td>310.0</td>\n",
              "      <td>910.0</td>\n",
              "      <td>1</td>\n",
              "    </tr>\n",
              "  </tbody>\n",
              "</table>\n",
              "</div>\n",
              "      <button class=\"colab-df-convert\" onclick=\"convertToInteractive('df-bd8b377c-ddae-4d15-9bce-9eeffef601e3')\"\n",
              "              title=\"Convert this dataframe to an interactive table.\"\n",
              "              style=\"display:none;\">\n",
              "        \n",
              "  <svg xmlns=\"http://www.w3.org/2000/svg\" height=\"24px\"viewBox=\"0 0 24 24\"\n",
              "       width=\"24px\">\n",
              "    <path d=\"M0 0h24v24H0V0z\" fill=\"none\"/>\n",
              "    <path d=\"M18.56 5.44l.94 2.06.94-2.06 2.06-.94-2.06-.94-.94-2.06-.94 2.06-2.06.94zm-11 1L8.5 8.5l.94-2.06 2.06-.94-2.06-.94L8.5 2.5l-.94 2.06-2.06.94zm10 10l.94 2.06.94-2.06 2.06-.94-2.06-.94-.94-2.06-.94 2.06-2.06.94z\"/><path d=\"M17.41 7.96l-1.37-1.37c-.4-.4-.92-.59-1.43-.59-.52 0-1.04.2-1.43.59L10.3 9.45l-7.72 7.72c-.78.78-.78 2.05 0 2.83L4 21.41c.39.39.9.59 1.41.59.51 0 1.02-.2 1.41-.59l7.78-7.78 2.81-2.81c.8-.78.8-2.07 0-2.86zM5.41 20L4 18.59l7.72-7.72 1.47 1.35L5.41 20z\"/>\n",
              "  </svg>\n",
              "      </button>\n",
              "      \n",
              "  <style>\n",
              "    .colab-df-container {\n",
              "      display:flex;\n",
              "      flex-wrap:wrap;\n",
              "      gap: 12px;\n",
              "    }\n",
              "\n",
              "    .colab-df-convert {\n",
              "      background-color: #E8F0FE;\n",
              "      border: none;\n",
              "      border-radius: 50%;\n",
              "      cursor: pointer;\n",
              "      display: none;\n",
              "      fill: #1967D2;\n",
              "      height: 32px;\n",
              "      padding: 0 0 0 0;\n",
              "      width: 32px;\n",
              "    }\n",
              "\n",
              "    .colab-df-convert:hover {\n",
              "      background-color: #E2EBFA;\n",
              "      box-shadow: 0px 1px 2px rgba(60, 64, 67, 0.3), 0px 1px 3px 1px rgba(60, 64, 67, 0.15);\n",
              "      fill: #174EA6;\n",
              "    }\n",
              "\n",
              "    [theme=dark] .colab-df-convert {\n",
              "      background-color: #3B4455;\n",
              "      fill: #D2E3FC;\n",
              "    }\n",
              "\n",
              "    [theme=dark] .colab-df-convert:hover {\n",
              "      background-color: #434B5C;\n",
              "      box-shadow: 0px 1px 3px 1px rgba(0, 0, 0, 0.15);\n",
              "      filter: drop-shadow(0px 1px 2px rgba(0, 0, 0, 0.3));\n",
              "      fill: #FFFFFF;\n",
              "    }\n",
              "  </style>\n",
              "\n",
              "      <script>\n",
              "        const buttonEl =\n",
              "          document.querySelector('#df-bd8b377c-ddae-4d15-9bce-9eeffef601e3 button.colab-df-convert');\n",
              "        buttonEl.style.display =\n",
              "          google.colab.kernel.accessAllowed ? 'block' : 'none';\n",
              "\n",
              "        async function convertToInteractive(key) {\n",
              "          const element = document.querySelector('#df-bd8b377c-ddae-4d15-9bce-9eeffef601e3');\n",
              "          const dataTable =\n",
              "            await google.colab.kernel.invokeFunction('convertToInteractive',\n",
              "                                                     [key], {});\n",
              "          if (!dataTable) return;\n",
              "\n",
              "          const docLinkHtml = 'Like what you see? Visit the ' +\n",
              "            '<a target=\"_blank\" href=https://colab.research.google.com/notebooks/data_table.ipynb>data table notebook</a>'\n",
              "            + ' to learn more about interactive tables.';\n",
              "          element.innerHTML = '';\n",
              "          dataTable['output_type'] = 'display_data';\n",
              "          await google.colab.output.renderOutput(dataTable, element);\n",
              "          const docLink = document.createElement('div');\n",
              "          docLink.innerHTML = docLinkHtml;\n",
              "          element.appendChild(docLink);\n",
              "        }\n",
              "      </script>\n",
              "    </div>\n",
              "  </div>\n",
              "  "
            ]
          },
          "metadata": {},
          "execution_count": 5
        }
      ],
      "source": [
        "# Afiche les 5 premiers records\n",
        "data.head()"
      ]
    },
    {
      "cell_type": "code",
      "execution_count": null,
      "metadata": {
        "colab": {
          "base_uri": "https://localhost:8080/"
        },
        "id": "tbdgrJGQFsCc",
        "outputId": "db5e2c51-2ec3-4f0a-c71b-acb354429e7d"
      },
      "outputs": [
        {
          "output_type": "stream",
          "name": "stdout",
          "text": [
            "4375\n"
          ]
        }
      ],
      "source": [
        "print(data.shape[0])"
      ]
    },
    {
      "cell_type": "markdown",
      "metadata": {
        "id": "g8sPUvQJFsCd"
      },
      "source": [
        "<strong style=\"color:red\">Description de nos données</strong>:\n",
        "\n",
        "* Nombres de caractéristiques (Features) est de 13 et sont : Seniority, Home, Time, Age, Marital, Records, Job, Expense, Income, Assets, Debt, Amount, Price, Status. \n",
        "* Nombres d'observations est de 4375\n",
        "* Observations avec status = 1: 1216\n",
        "* Observations avec status = 1: 3159\n"
      ]
    },
    {
      "cell_type": "code",
      "execution_count": null,
      "metadata": {
        "id": "0arfJHLhFsCd"
      },
      "outputs": [],
      "source": [
        "# Transformation en numpy du jeu de données issue de data \n",
        "X = data.iloc[:,:].values"
      ]
    },
    {
      "cell_type": "code",
      "execution_count": null,
      "metadata": {
        "id": "o_DWKMpAFsCe"
      },
      "outputs": [],
      "source": [
        "# Separation des caractérisques (X_data) et la variable à prédire (Y_data)   \n",
        "X_data = X[:, :-1]\n",
        "Y_data = X[:, -1]"
      ]
    },
    {
      "cell_type": "code",
      "execution_count": null,
      "metadata": {
        "scrolled": true,
        "colab": {
          "base_uri": "https://localhost:8080/"
        },
        "id": "yQ6-NCSDFsCe",
        "outputId": "943b697d-45b2-42d5-ca10-1b06214bb821"
      },
      "outputs": [
        {
          "output_type": "stream",
          "name": "stdout",
          "text": [
            "Shape X_data: (4375, 13) \n",
            "Shape Y_data: (4375,)\n",
            "nombre des éléments positifs: 1216\n",
            "nombre des éléments négatifs: 3159\n"
          ]
        }
      ],
      "source": [
        "# Analyse des propriétés de la data set\n",
        "n_neg = sum(Y_data >= 1 )\n",
        "n_pos = sum(Y_data <= 0)\n",
        "print(f'Shape X_data: {X_data.shape} \\nShape Y_data: {Y_data.shape}')\n",
        "print(f'nombre des éléments positifs: {n_pos}')\n",
        "print(f'nombre des éléments négatifs: {n_neg}')"
      ]
    },
    {
      "cell_type": "code",
      "execution_count": null,
      "metadata": {
        "scrolled": true,
        "colab": {
          "base_uri": "https://localhost:8080/",
          "height": 282
        },
        "id": "Vd4mhLmVFsCf",
        "outputId": "66eafa8c-bf34-4269-8fe7-26b6263ac3fd"
      },
      "outputs": [
        {
          "output_type": "execute_result",
          "data": {
            "text/plain": [
              "(array([1216., 3159.]), array([0. , 0.5, 1. ]), <a list of 2 Patch objects>)"
            ]
          },
          "metadata": {},
          "execution_count": 10
        },
        {
          "output_type": "display_data",
          "data": {
            "text/plain": [
              "<Figure size 432x288 with 1 Axes>"
            ],
            "image/png": "[encoded data removed]"
          },
          "metadata": {
            "needs_background": "light"
          }
        }
      ],
      "source": [
        "# Histogramme\n",
        "plt.hist(Y_data, bins=2)"
      ]
    },
    {
      "cell_type": "markdown",
      "metadata": {
        "id": "qP76J0dzFsCf"
      },
      "source": [
        "<hr style=\"background:blue;height:5px;\">"
      ]
    },
    {
      "cell_type": "markdown",
      "metadata": {
        "id": "98ODVXbXFsCg"
      },
      "source": [
        "### 2-  Apprentissage et évaluation de modèles"
      ]
    },
    {
      "cell_type": "code",
      "execution_count": null,
      "metadata": {
        "id": "X56czhRTFsCg"
      },
      "outputs": [],
      "source": [
        "# training and test data sans aucun pretraitement (feature engineering, )\n",
        "X_data = X[:, :-1]\n",
        "Y_data = X[:, -1]\n",
        "X_train, X_test, Y_train, Y_test = train_test_split(X_data, Y_data, train_size=0.5, random_state=1)"
      ]
    },
    {
      "cell_type": "code",
      "execution_count": null,
      "metadata": {
        "scrolled": false,
        "id": "YRwML_IOFsCg"
      },
      "outputs": [],
      "source": [
        "df = model_trainer(X_train,Y_train, X_test, Y_test)"
      ]
    },
    {
      "cell_type": "code",
      "execution_count": null,
      "metadata": {
        "scrolled": true,
        "colab": {
          "base_uri": "https://localhost:8080/",
          "height": 144
        },
        "id": "JhDgyvRSFsCh",
        "outputId": "3d750b0f-dc08-429e-c498-4d6d8ca90ca9"
      },
      "outputs": [
        {
          "output_type": "execute_result",
          "data": {
            "text/plain": [
              "<pandas.io.formats.style.Styler at 0x7f9e798edf50>"
            ],
            "text/html": [
              "<style type=\"text/css\">\n",
              "</style>\n",
              "<table id=\"T_1c4f3_\" class=\"dataframe\">\n",
              "  <thead>\n",
              "    <tr>\n",
              "      <th class=\"col_heading level0 col0\" >classifier</th>\n",
              "      <th class=\"col_heading level0 col1\" >Precision</th>\n",
              "      <th class=\"col_heading level0 col2\" >Accuracy</th>\n",
              "    </tr>\n",
              "  </thead>\n",
              "  <tbody>\n",
              "    <tr>\n",
              "      <td id=\"T_1c4f3_row0_col0\" class=\"data row0 col0\" >cart</td>\n",
              "      <td id=\"T_1c4f3_row0_col1\" class=\"data row0 col1\" >0.823757</td>\n",
              "      <td id=\"T_1c4f3_row0_col2\" class=\"data row0 col2\" >0.734461</td>\n",
              "    </tr>\n",
              "    <tr>\n",
              "      <td id=\"T_1c4f3_row1_col0\" class=\"data row1 col0\" >knn</td>\n",
              "      <td id=\"T_1c4f3_row1_col1\" class=\"data row1 col1\" >0.770971</td>\n",
              "      <td id=\"T_1c4f3_row1_col2\" class=\"data row1 col2\" >0.724863</td>\n",
              "    </tr>\n",
              "    <tr>\n",
              "      <td id=\"T_1c4f3_row2_col0\" class=\"data row2 col0\" >mlp</td>\n",
              "      <td id=\"T_1c4f3_row2_col1\" class=\"data row2 col1\" >0.800323</td>\n",
              "      <td id=\"T_1c4f3_row2_col2\" class=\"data row2 col2\" >0.615631</td>\n",
              "    </tr>\n",
              "  </tbody>\n",
              "</table>\n"
            ]
          },
          "metadata": {},
          "execution_count": 13
        }
      ],
      "source": [
        "# Accuracy et Précision des modèles\n",
        "df.head(10).style.hide_index()"
      ]
    },
    {
      "cell_type": "markdown",
      "metadata": {
        "id": "dP2YqV4MFsCh"
      },
      "source": [
        "--- \n",
        " <h4>Le meilleur critère est <strong style=\"color:green\"> Précision </strong>. En effet la précision est le pourcentage des vraies positifs (True positifs). Dans ce cas s'il s'agit de la portion des personnes ayant réellement un score 1 parmi celles predites avec un score 1 . Le meilleur critère est celui qui minimise les faux positifs donc la precision. <strong style=\"color:red\">Rappel</strong>(Recall) nous donne le pourcentage de personnes ayant un score de 1 et qui ont été predites comme telles. Le recall ne minimise pasles faux positifs, mais plutot les faux negatifs. </h4>       \n",
        " \n",
        "---"
      ]
    },
    {
      "cell_type": "markdown",
      "metadata": {
        "id": "JvK3K6ufFsCh"
      },
      "source": [
        "<strong style=\"color:red\">Note</strong>: On remarque que l'arbre de décision cart à la meilleure précision et que le KNN est à le meilleur accuracy."
      ]
    },
    {
      "cell_type": "markdown",
      "metadata": {
        "id": "FwVyqS20FsCi"
      },
      "source": [
        "<hr style=\"background:blue;height:5px;\">"
      ]
    },
    {
      "cell_type": "markdown",
      "metadata": {
        "id": "airA2zxfFsCi"
      },
      "source": [
        "### 3- Normalisation des variables continues"
      ]
    },
    {
      "cell_type": "markdown",
      "metadata": {
        "id": "-_-ssWnYFsCi"
      },
      "source": [
        "### a- Standardisation "
      ]
    },
    {
      "cell_type": "code",
      "execution_count": null,
      "metadata": {
        "id": "RHnHY1OmFsCj"
      },
      "outputs": [],
      "source": [
        "X_train, X_test, Y_train, Y_test = train_test_split(X_data, Y_data, train_size=0.5, random_state=1)\n",
        "min_obj = StandardScaler().fit(X_train)\n",
        "X_train = min_obj.transform(X_train)\n",
        "X_test =min_obj.transform(X_test)"
      ]
    },
    {
      "cell_type": "code",
      "execution_count": null,
      "metadata": {
        "id": "amKr88LIFsCj"
      },
      "outputs": [],
      "source": [
        "df = model_trainer(X_train,Y_train, X_test, Y_test)"
      ]
    },
    {
      "cell_type": "code",
      "execution_count": null,
      "metadata": {
        "scrolled": true,
        "colab": {
          "base_uri": "https://localhost:8080/",
          "height": 144
        },
        "id": "66fN3IT9FsCj",
        "outputId": "f45bdb4e-cfc9-4562-ea0c-81101c227855"
      },
      "outputs": [
        {
          "output_type": "execute_result",
          "data": {
            "text/plain": [
              "<pandas.io.formats.style.Styler at 0x7f9e76d59d50>"
            ],
            "text/html": [
              "<style type=\"text/css\">\n",
              "</style>\n",
              "<table id=\"T_fd80e_\" class=\"dataframe\">\n",
              "  <thead>\n",
              "    <tr>\n",
              "      <th class=\"col_heading level0 col0\" >classifier</th>\n",
              "      <th class=\"col_heading level0 col1\" >Precision</th>\n",
              "      <th class=\"col_heading level0 col2\" >Accuracy</th>\n",
              "    </tr>\n",
              "  </thead>\n",
              "  <tbody>\n",
              "    <tr>\n",
              "      <td id=\"T_fd80e_row0_col0\" class=\"data row0 col0\" >cart</td>\n",
              "      <td id=\"T_fd80e_row0_col1\" class=\"data row0 col1\" >0.819855</td>\n",
              "      <td id=\"T_fd80e_row0_col2\" class=\"data row0 col2\" >0.720750</td>\n",
              "    </tr>\n",
              "    <tr>\n",
              "      <td id=\"T_fd80e_row1_col0\" class=\"data row1 col0\" >knn</td>\n",
              "      <td id=\"T_fd80e_row1_col1\" class=\"data row1 col1\" >0.810602</td>\n",
              "      <td id=\"T_fd80e_row1_col2\" class=\"data row1 col2\" >0.752742</td>\n",
              "    </tr>\n",
              "    <tr>\n",
              "      <td id=\"T_fd80e_row2_col0\" class=\"data row2 col0\" >mlp</td>\n",
              "      <td id=\"T_fd80e_row2_col1\" class=\"data row2 col1\" >0.838172</td>\n",
              "      <td id=\"T_fd80e_row2_col2\" class=\"data row2 col2\" >0.776508</td>\n",
              "    </tr>\n",
              "  </tbody>\n",
              "</table>\n"
            ]
          },
          "metadata": {},
          "execution_count": 16
        }
      ],
      "source": [
        "df.head(10).style.hide_index()"
      ]
    },
    {
      "cell_type": "markdown",
      "metadata": {
        "id": "ZBEj77WyFsCj"
      },
      "source": [
        "<strong style=\"color:red\">Note</strong>: Après avoir fait la standardisation, on constate est une amélioration de la precision et de l'accuracy au niveau de trois modèles. Le modèle mlp a surpassé les autres en accuracy et precision. Donc la standardisation a eu un effet notoire sur la precision et l'accuracy de ce modèle.     "
      ]
    },
    {
      "cell_type": "markdown",
      "metadata": {
        "id": "uS3n3YzJFsCk"
      },
      "source": [
        "### b- Normalisation"
      ]
    },
    {
      "cell_type": "code",
      "execution_count": null,
      "metadata": {
        "id": "fXHRViV7FsCk"
      },
      "outputs": [],
      "source": [
        "X_train, X_test, Y_train, Y_test = train_test_split(X_data, Y_data, train_size=0.5, random_state=1)\n",
        "min_obj = MinMaxScaler().fit(X_train)\n",
        "X_train = min_obj.transform(X_train)\n",
        "X_test =min_obj.transform(X_test)"
      ]
    },
    {
      "cell_type": "code",
      "execution_count": null,
      "metadata": {
        "id": "JbFMYf0zFsCk"
      },
      "outputs": [],
      "source": [
        "df = model_trainer(X_train,Y_train, X_test, Y_test)"
      ]
    },
    {
      "cell_type": "code",
      "execution_count": null,
      "metadata": {
        "scrolled": true,
        "colab": {
          "base_uri": "https://localhost:8080/",
          "height": 144
        },
        "id": "6w91abvlFsCk",
        "outputId": "7ca7681a-9851-406f-8c5b-7d7772226ab5"
      },
      "outputs": [
        {
          "output_type": "execute_result",
          "data": {
            "text/plain": [
              "<pandas.io.formats.style.Styler at 0x7f9e76dcb450>"
            ],
            "text/html": [
              "<style type=\"text/css\">\n",
              "</style>\n",
              "<table id=\"T_259c5_\" class=\"dataframe\">\n",
              "  <thead>\n",
              "    <tr>\n",
              "      <th class=\"col_heading level0 col0\" >classifier</th>\n",
              "      <th class=\"col_heading level0 col1\" >Precision</th>\n",
              "      <th class=\"col_heading level0 col2\" >Accuracy</th>\n",
              "    </tr>\n",
              "  </thead>\n",
              "  <tbody>\n",
              "    <tr>\n",
              "      <td id=\"T_259c5_row0_col0\" class=\"data row0 col0\" >cart</td>\n",
              "      <td id=\"T_259c5_row0_col1\" class=\"data row0 col1\" >0.815891</td>\n",
              "      <td id=\"T_259c5_row0_col2\" class=\"data row0 col2\" >0.723035</td>\n",
              "    </tr>\n",
              "    <tr>\n",
              "      <td id=\"T_259c5_row1_col0\" class=\"data row1 col0\" >knn</td>\n",
              "      <td id=\"T_259c5_row1_col1\" class=\"data row1 col1\" >0.807669</td>\n",
              "      <td id=\"T_259c5_row1_col2\" class=\"data row1 col2\" >0.745430</td>\n",
              "    </tr>\n",
              "    <tr>\n",
              "      <td id=\"T_259c5_row2_col0\" class=\"data row2 col0\" >mlp</td>\n",
              "      <td id=\"T_259c5_row2_col1\" class=\"data row2 col1\" >0.832346</td>\n",
              "      <td id=\"T_259c5_row2_col2\" class=\"data row2 col2\" >0.788848</td>\n",
              "    </tr>\n",
              "  </tbody>\n",
              "</table>\n"
            ]
          },
          "metadata": {},
          "execution_count": 19
        }
      ],
      "source": [
        "df.head(10).style.hide_index()"
      ]
    },
    {
      "cell_type": "markdown",
      "metadata": {
        "id": "vnt2cws5FsCl"
      },
      "source": [
        "<strong style=\"color:red\">Note</strong>: La normalisation a amélioré legèrement la precision et l'accuracy du modèle MLP. Elle permet de reduire le biais présent dans les données.   "
      ]
    },
    {
      "cell_type": "markdown",
      "metadata": {
        "id": "aCwT8aJcFsCl"
      },
      "source": [
        "<hr style=\"background:blue;height:5px;\">"
      ]
    },
    {
      "cell_type": "markdown",
      "metadata": {
        "id": "HvI3g0o3FsCl"
      },
      "source": [
        "### 4- Création de nouvelles caractérisques par PCA "
      ]
    },
    {
      "cell_type": "code",
      "execution_count": null,
      "metadata": {
        "id": "Z2LRF_AYFsCl"
      },
      "outputs": [],
      "source": [
        "pca = PCA(n_components=3)\n",
        "X_train, X_test, Y_train, Y_test = train_test_split(X_data, Y_data, train_size=0.5, random_state=1)\n",
        "pca.fit(X_train)\n",
        "\n",
        "X_pca = pca.transform(X_train)\n",
        "X_train = np.concatenate((X_train, X_pca), axis=1)\n",
        "\n",
        "X_pca = pca.transform(X_test)\n",
        "X_test = np.concatenate((X_test, X_pca), axis=1)"
      ]
    },
    {
      "cell_type": "code",
      "execution_count": null,
      "metadata": {
        "id": "xFSRWJUrFsCm"
      },
      "outputs": [],
      "source": [
        "df = model_trainer(X_train,Y_train, X_test, Y_test)"
      ]
    },
    {
      "cell_type": "code",
      "execution_count": null,
      "metadata": {
        "scrolled": true,
        "id": "kdgqMuHKFsCm",
        "outputId": "78ac3771-c3a8-4067-e052-f9d19390c120",
        "colab": {
          "base_uri": "https://localhost:8080/",
          "height": 144
        }
      },
      "outputs": [
        {
          "output_type": "execute_result",
          "data": {
            "text/plain": [
              "<pandas.io.formats.style.Styler at 0x7f9e76dcd810>"
            ],
            "text/html": [
              "<style type=\"text/css\">\n",
              "</style>\n",
              "<table id=\"T_d13c4_\" class=\"dataframe\">\n",
              "  <thead>\n",
              "    <tr>\n",
              "      <th class=\"col_heading level0 col0\" >classifier</th>\n",
              "      <th class=\"col_heading level0 col1\" >Precision</th>\n",
              "      <th class=\"col_heading level0 col2\" >Accuracy</th>\n",
              "    </tr>\n",
              "  </thead>\n",
              "  <tbody>\n",
              "    <tr>\n",
              "      <td id=\"T_d13c4_row0_col0\" class=\"data row0 col0\" >cart</td>\n",
              "      <td id=\"T_d13c4_row0_col1\" class=\"data row0 col1\" >0.813676</td>\n",
              "      <td id=\"T_d13c4_row0_col2\" class=\"data row0 col2\" >0.733090</td>\n",
              "    </tr>\n",
              "    <tr>\n",
              "      <td id=\"T_d13c4_row1_col0\" class=\"data row1 col0\" >knn</td>\n",
              "      <td id=\"T_d13c4_row1_col1\" class=\"data row1 col1\" >0.766885</td>\n",
              "      <td id=\"T_d13c4_row1_col2\" class=\"data row1 col2\" >0.723949</td>\n",
              "    </tr>\n",
              "    <tr>\n",
              "      <td id=\"T_d13c4_row2_col0\" class=\"data row2 col0\" >mlp</td>\n",
              "      <td id=\"T_d13c4_row2_col1\" class=\"data row2 col1\" >0.742815</td>\n",
              "      <td id=\"T_d13c4_row2_col2\" class=\"data row2 col2\" >0.731718</td>\n",
              "    </tr>\n",
              "  </tbody>\n",
              "</table>\n"
            ]
          },
          "metadata": {},
          "execution_count": 22
        }
      ],
      "source": [
        "df.head(10).style.hide_index()"
      ]
    },
    {
      "cell_type": "markdown",
      "metadata": {
        "id": "eS-ulAqmFsCn"
      },
      "source": [
        "<strong style=\"color:red\">Note</strong>: La création de features avec PCA a été contre-productif car elle entraîne une dimunition de la precision et de l'accuracy.  "
      ]
    },
    {
      "cell_type": "markdown",
      "metadata": {
        "id": "at-GhBt0FsCn"
      },
      "source": [
        "---\n",
        "<h4 style=\"color:red\"> le meilleur algorithme parmi les trois est <strong style=\"color:green\">__MLP__ </strong>, et le meilleur traitement à faire sur les données est la <strong style=\"color:green\">Normalisation</strong> (MinMAX).    </h4> \n",
        "\n",
        "---"
      ]
    },
    {
      "cell_type": "markdown",
      "metadata": {
        "id": "d04p5IFLFsCn"
      },
      "source": [
        "<hr style=\"background:blue;height:5px;\">"
      ]
    },
    {
      "cell_type": "markdown",
      "metadata": {
        "id": "biTFa9PQFsCn"
      },
      "source": [
        "### 5- Selection de variables (features selection)"
      ]
    },
    {
      "cell_type": "markdown",
      "metadata": {
        "id": "BE4hyNaOFsCn"
      },
      "source": [
        "---\n",
        "L'utilisation d'un RandomForest permet d'évaluer la pertinence (importance) des variables. Cela permettra de reduire leur nombre, en selectionnant que celles ayant une importance significatives.  \n",
        "\n",
        "---"
      ]
    },
    {
      "cell_type": "code",
      "execution_count": null,
      "metadata": {
        "colab": {
          "base_uri": "https://localhost:8080/"
        },
        "id": "7pBrWLIlFsCo",
        "outputId": "4659dc86-ff81-4e16-f6da-077cf8d96566"
      },
      "outputs": [
        {
          "output_type": "stream",
          "name": "stdout",
          "text": [
            "(2187, 13)\n"
          ]
        }
      ],
      "source": [
        "# Normalisation de données\n",
        "X_train, X_test, Y_train, Y_test = train_test_split(X_data, Y_data, train_size=0.5, random_state=1)\n",
        "min_obj = MinMaxScaler().fit(X_train)\n",
        "X_train = min_obj.transform(X_train)\n",
        "X_test = min_obj.transform(X_test)\n",
        "print(X_train.shape)"
      ]
    },
    {
      "cell_type": "code",
      "execution_count": null,
      "metadata": {
        "scrolled": false,
        "colab": {
          "base_uri": "https://localhost:8080/",
          "height": 347
        },
        "id": "2NICxrUYFsCo",
        "outputId": "5133b6a8-3ffc-4969-f834-32169d935440"
      },
      "outputs": [
        {
          "output_type": "stream",
          "name": "stdout",
          "text": [
            "Index(['Income', 'Seniority', 'Price', 'Amount', 'Age', 'Assets', 'Expenses',\n",
            "       'Records', 'Time', 'Job', 'Debt', 'Home', 'Marital'],\n",
            "      dtype='object')\n"
          ]
        },
        {
          "output_type": "display_data",
          "data": {
            "text/plain": [
              "<Figure size 432x288 with 1 Axes>"
            ],
            "image/png": "[encoded data removed]"
          },
          "metadata": {
            "needs_background": "light"
          }
        }
      ],
      "source": [
        "# Affichage de l'importance de chaque de  caractéristique\n",
        "clf = RandomForestClassifier(n_estimators=100)\n",
        "clf.fit(X_train, Y_train)\n",
        "importances=clf.feature_importances_\n",
        "std = np.std([tree.feature_importances_ for tree in clf.estimators_],axis=0)\n",
        "sorted_idx = np.argsort(importances)[::-1]\n",
        "features =data.columns\n",
        "print(features[sorted_idx])\n",
        "padding = np.arange(X_train.size/len(X_train)) + 0.5\n",
        "plt.barh(padding, importances[sorted_idx],xerr=std[sorted_idx], align='center')\n",
        "plt.yticks(padding, features[sorted_idx])\n",
        "plt.xlabel(\"Relative Importance\")\n",
        "plt.title(\"Variable Importance\")\n",
        "plt.show()"
      ]
    },
    {
      "cell_type": "markdown",
      "metadata": {
        "id": "8AkRQlFMFsCo"
      },
      "source": [
        "---\n",
        "Après avoir appliqué le Random Forest on remarque que les variables Income et seniority sont les plus importantes et que les moins importantes sont Marital et Home   \n",
        "\n",
        "---"
      ]
    },
    {
      "cell_type": "code",
      "execution_count": null,
      "metadata": {
        "scrolled": false,
        "colab": {
          "base_uri": "https://localhost:8080/",
          "height": 295
        },
        "id": "ekI91nROFsCp",
        "outputId": "668ca13b-374a-465d-c966-3c7e5f916748"
      },
      "outputs": [
        {
          "output_type": "display_data",
          "data": {
            "text/plain": [
              "<Figure size 432x288 with 1 Axes>"
            ],
            "image/png": "[encoded data removed]"
          },
          "metadata": {
            "needs_background": "light"
          }
        }
      ],
      "source": [
        "# Selection de caractéristique et entrainement du modèle mlp\n",
        "mlp_classifier = MLPClassifier(hidden_layer_sizes=(40, 20), random_state=1)\n",
        "scores=np.zeros(X_train.shape[1]+1)\n",
        "for f in np.arange(0, X_train.shape[1]+1):\n",
        "    X1_f = X_train[:,sorted_idx[:f+1]]\n",
        "    X2_f = X_test[:,sorted_idx[:f+1]]\n",
        "    mlp_classifier.fit(X1_f,Y_train)\n",
        "    Y_mlp=mlp_classifier.predict(X2_f)\n",
        "    scores[f]=np.round(metrics.accuracy_score(Y_test,Y_mlp),3)\n",
        "\n",
        "plt.plot(scores)\n",
        "plt.xlabel(\"Nombre de Variables\")\n",
        "plt.ylabel(\"Accuracy\")\n",
        "plt.title(\"Evolution de l'accuracy en fonction des variables\")\n",
        "plt.show()"
      ]
    },
    {
      "cell_type": "markdown",
      "metadata": {
        "id": "gUnKxfY8FsCp"
      },
      "source": [
        "---\n",
        "En utilisant 7 variables ('Income', 'Seniority', 'Price', 'Amount', 'Age', 'Assets', 'Expenses',) on obtient le meilleur accuracy avec le modèle mlp.\n",
        "\n",
        "---"
      ]
    },
    {
      "cell_type": "markdown",
      "metadata": {
        "id": "kuQ1s_C8FsCq"
      },
      "source": [
        "<hr style=\"background:blue;height:5px;\">"
      ]
    },
    {
      "cell_type": "markdown",
      "metadata": {
        "id": "pKW2Xw7oFsCq"
      },
      "source": [
        "### 6- Paramétrage des classifieurs"
      ]
    },
    {
      "cell_type": "markdown",
      "metadata": {
        "id": "Ft_pX-rfFsCq"
      },
      "source": [
        "---\n",
        "Dans cette partie, l'algorithme GridSearchCV a été utilisé pour chercher les meilleurs hyparametres qui donnent le meilleur accuracy \n",
        "\n",
        "---"
      ]
    },
    {
      "cell_type": "code",
      "execution_count": null,
      "metadata": {
        "colab": {
          "base_uri": "https://localhost:8080/"
        },
        "id": "OwV98StvFsCq",
        "outputId": "cb7f9e32-98f9-498f-ce02-b5f03f955bcd"
      },
      "outputs": [
        {
          "output_type": "stream",
          "name": "stdout",
          "text": [
            "0.8025594149908593\n",
            "0.8243243243243243\n"
          ]
        }
      ],
      "source": [
        "X1_f = X_train[:,sorted_idx[:7+1]]\n",
        "X2_f = X_test[:,sorted_idx[:7+1]]\n",
        "\n",
        "mlp_classifier = MLPClassifier(hidden_layer_sizes=(70, 20), random_state=1)\n",
        "mlp_classifier.fit(X1_f, Y_train)\n",
        "\n",
        "y_pred_mlp = mlp_classifier.predict(X2_f)\n",
        "\n",
        "accuracy_mlp = metrics.accuracy_score(Y_test, y_pred_mlp)\n",
        "precision_mlp = metrics.precision_score(Y_test, y_pred_mlp) \n",
        "\n",
        "print(accuracy_mlp)\n",
        "print(precision_mlp)"
      ]
    },
    {
      "cell_type": "code",
      "execution_count": null,
      "metadata": {
        "scrolled": false,
        "colab": {
          "base_uri": "https://localhost:8080/"
        },
        "id": "V9wBLDHAFsCr",
        "outputId": "e8db005f-744f-4c7f-98af-b0649572e7e2"
      },
      "outputs": [
        {
          "output_type": "execute_result",
          "data": {
            "text/plain": [
              "GridSearchCV(estimator=MLPClassifier(hidden_layer_sizes=(70, 20),\n",
              "                                     random_state=1),\n",
              "             param_grid={'activation': ['relu', 'tanh', 'sigmoid'],\n",
              "                         'hidden_layer_sizes': [(50, 20), (70, 20), (100, 10),\n",
              "                                                (80, 10)],\n",
              "                         'learning_rate': ['constant', 'adaptive'],\n",
              "                         'learning_rate_init': [0.01, 0.1],\n",
              "                         'solver': ['sgd', 'adam']})"
            ]
          },
          "metadata": {},
          "execution_count": 27
        }
      ],
      "source": [
        "# Optimization des hyperparametres\n",
        "params = {'hidden_layer_sizes': [(50, 20), (70, 20), (100, 10), (80, 10)],\n",
        "          'activation': ['relu', 'tanh', 'sigmoid'],\n",
        "          'solver': ['sgd', 'adam'],\n",
        "          'learning_rate': ['constant', 'adaptive'],\n",
        "          'learning_rate_init': [0.01, 0.1] }\n",
        "clf = GridSearchCV(mlp_classifier, params )\n",
        "clf.fit(X1_f, Y_train)"
      ]
    },
    {
      "cell_type": "code",
      "source": [
        "best_mlp_estimator = clf.best_estimator_\n",
        "\n",
        "y_pred_mlp = best_mlp_estimator.predict(X2_f)\n",
        "\n",
        "accuracy_mlp = metrics.accuracy_score(Y_test, y_pred_mlp)\n",
        "precision_mlp = metrics.precision_score(Y_test, y_pred_mlp)\n",
        "\n",
        "print(f\"accuracy: {accuracy_mlp}, precision: {precision_mlp}\" )\n"
      ],
      "metadata": {
        "colab": {
          "base_uri": "https://localhost:8080/"
        },
        "id": "4onDaYEbJyiG",
        "outputId": "1018551c-284e-4b96-a295-87c7ea4a7553"
      },
      "execution_count": null,
      "outputs": [
        {
          "output_type": "stream",
          "name": "stdout",
          "text": [
            "accuracy: 0.7819926873857403, precision: 0.7927022739291381\n"
          ]
        }
      ]
    },
    {
      "cell_type": "markdown",
      "metadata": {
        "id": "RIdCMNVoFsCr"
      },
      "source": [
        "<hr style=\"background:blue;height:5px;\">"
      ]
    },
    {
      "cell_type": "markdown",
      "metadata": {
        "id": "PcB14qkwFsCr"
      },
      "source": [
        "### 7- Création d'un pipeline"
      ]
    },
    {
      "cell_type": "markdown",
      "metadata": {
        "id": "8K_ag4cwFsCs"
      },
      "source": [
        "---\n",
        "Dans cette partie, l'ensemble des étapes est encapsulé dans une pipeline.  \n",
        "\n",
        "---"
      ]
    },
    {
      "cell_type": "code",
      "execution_count": null,
      "metadata": {
        "id": "C2Us0Cm6FsCs"
      },
      "outputs": [],
      "source": [
        "# Objet de selection de classe voir FeatureSelection plus haut\n",
        "fs = FeatureSelection(mlp_classifier)\n",
        "fs.fit(X_train, Y_train)"
      ]
    },
    {
      "cell_type": "code",
      "execution_count": null,
      "metadata": {
        "id": "vYAuzmKfFsCs"
      },
      "outputs": [],
      "source": [
        "# Création de la pipeline\n",
        "pipe = Pipeline([('N', min_obj), ('FS', fs), ('M', mlp_classifier)])"
      ]
    },
    {
      "cell_type": "code",
      "execution_count": null,
      "metadata": {
        "id": "pNinGVrGFsCs"
      },
      "outputs": [],
      "source": [
        "pipe.score(X_test, Y_test)"
      ]
    },
    {
      "cell_type": "code",
      "execution_count": null,
      "metadata": {
        "id": "B_Cc96O7FsCs"
      },
      "outputs": [],
      "source": [
        "#Exportation de la pipeline\n",
        "import pickle\n",
        "with open('model_credit.pickle', 'wb') as f:\n",
        "    pickle.dump(pipe, f, pickle.HIGHEST_PROTOCOL)"
      ]
    },
    {
      "cell_type": "code",
      "execution_count": null,
      "metadata": {
        "id": "SUW_QU8IFsCt"
      },
      "outputs": [],
      "source": [
        "# Importation de la pipeline sauvegardée\n",
        "with open('model_credit.pickle', 'rb') as f:\n",
        "    pipe_data = pickle.load(f)"
      ]
    },
    {
      "cell_type": "markdown",
      "metadata": {
        "id": "HU5RCBrnFsCt"
      },
      "source": [
        "<hr style=\"background:blue;height:5px;\">"
      ]
    },
    {
      "cell_type": "markdown",
      "metadata": {
        "id": "nVlk3aB_FsCt"
      },
      "source": [
        "### 8. Comparaison de plusieurs algorithmes d'algorithmes"
      ]
    },
    {
      "cell_type": "markdown",
      "metadata": {
        "id": "YLjDGzFwFsCt"
      },
      "source": [
        "---\n",
        "Les métriques telles que Accuracy, AUC, time, precision sont utilisées pour comparer des algorithmes de classification.   \n",
        "\n",
        "----\n"
      ]
    },
    {
      "cell_type": "code",
      "execution_count": null,
      "metadata": {
        "id": "GeB8wk-XFsCt"
      },
      "outputs": [],
      "source": [
        "import time\n",
        "def run_classifiers(clfs, X, y):\n",
        "    \"\"\"\n",
        "        run models \n",
        "    \"\"\"\n",
        "    kf = KFold(n_splits=10, shuffle=True, random_state=0)\n",
        "    scores = {'Precision_mean': [], 'Precision_std': [], 'Accuracy_mean': [], 'Accuracy_std': [],\n",
        "              'AUC_mean': [], 'AUC_std': [], 'Exec_time': []}\n",
        "    for key, val in clfs.items():\n",
        "        \n",
        "        delta1 = time.time() \n",
        "        scoring = cross_validate(val,X, y, cv=kf, scoring=['precision', 'accuracy', 'roc_auc'])\n",
        "        delta2 = time.time()\n",
        "        \n",
        "        scores['Precision_mean'].append(np.mean(scoring['test_precision']))\n",
        "        scores['Precision_std'].append(np.mean(scoring['test_precision']))\n",
        "        \n",
        "        scores['Accuracy_mean'].append(np.mean(scoring['test_accuracy']))\n",
        "        scores['Accuracy_std'].append(np.mean(scoring['test_accuracy']))\n",
        "        \n",
        "        scores['AUC_mean'].append(np.mean(scoring['test_roc_auc']))\n",
        "        scores['AUC_std'].append(np.mean(scoring['test_roc_auc']))\n",
        "        \n",
        "        scores['Exec_time'].append(delta2 - delta1)\n",
        "         \n",
        "        \n",
        "    df = pd.DataFrame(scores, index=list(clfs.keys()))\n",
        "    return df \n",
        "        "
      ]
    },
    {
      "cell_type": "code",
      "execution_count": null,
      "metadata": {
        "id": "gN9Vua75FsCu"
      },
      "outputs": [],
      "source": [
        "# Chargement de données et normalisation\n",
        "data = pd.read_csv('credit_scoring.csv', sep=';')\n",
        "\n",
        "X = data.iloc[:,:].values\n",
        "\n",
        "X_data = X[:, :-1]\n",
        "y = X[:, -1]\n",
        "\n",
        "min_obj = MinMaxScaler().fit(X_data)\n",
        "X = min_obj.transform(X_data)"
      ]
    },
    {
      "cell_type": "code",
      "execution_count": null,
      "metadata": {
        "id": "G4ELA8vfFsCu"
      },
      "outputs": [],
      "source": [
        "# Dictionnaire d'algorithmes à comparer \n",
        "clfs = {\n",
        "    'RF': RandomForestClassifier(n_estimators=50, random_state=1),\n",
        "    'KNN': KNeighborsClassifier(n_neighbors=10),\n",
        "    'DT': DecisionTreeClassifier(), \n",
        "    'MLP': MLPClassifier(hidden_layer_sizes=(20, 10), random_state=1),\n",
        "    'B': BaggingClassifier(n_estimators=50),\n",
        "    'ADA': AdaBoostClassifier(n_estimators=50),\n",
        "    'NB': GaussianNB()\n",
        "}\n"
      ]
    },
    {
      "cell_type": "code",
      "execution_count": null,
      "metadata": {
        "scrolled": false,
        "id": "WDmEwGkLFsCu"
      },
      "outputs": [],
      "source": [
        "# Execution des algorithmes\n",
        "run_classifiers(clfs, X, y)"
      ]
    },
    {
      "cell_type": "markdown",
      "metadata": {
        "id": "LECisFk7FsCv"
      },
      "source": [
        "<strong style=\"color:red\">Note</strong>: En exécutant ce run_classifiers, On constate que:\n",
        "* le temps d'exécution est le même pour tous les algorithmes.\n",
        "* La meilleure précision moyenne est obtenu par le modèle MLP (0.826355) et la plus petite précision est obtenu par de l'arbre de decision (0.808462). En moyenne, on peut dire que la precision moyenne de ces modèles sont presque les mêmes.\n",
        "* En évaluant l'aire sous la courbe ROC, on constate que le meilleur classifieur est le MLP, ensuite suivent Adaboost, Random forest, Bagging. Mais KNN et l'arbre de decision les plus petites valeurs moyennes de l'AUC.\n",
        "* Ces resultats prouvent l'éfficacité des algorithmes d'ensemble (Adaboost, Random forest, Bagging), ils arrivent à concurrencer en termes de précision le MLP (Qui est d'ailleurs le meilleur algorithme face à l'arbre de décision et KNN)   \n"
      ]
    },
    {
      "cell_type": "markdown",
      "metadata": {
        "id": "UQRzeKZOFsCv"
      },
      "source": [
        "## II. Apprentissage supervisé: Données hétérogènes "
      ]
    },
    {
      "cell_type": "code",
      "execution_count": null,
      "metadata": {
        "scrolled": true,
        "id": "oI7ekfc9FsCv"
      },
      "outputs": [],
      "source": [
        "# chargement de données \n",
        "data = pd.read_csv('./credit.data', sep='\\t', names=['A'+str(i) for i in range(1, 17)])\n",
        "data.head(10)"
      ]
    },
    {
      "cell_type": "code",
      "execution_count": null,
      "metadata": {
        "id": "cMrgRUAkFsCv"
      },
      "outputs": [],
      "source": [
        "data.shape[0]"
      ]
    },
    {
      "cell_type": "code",
      "execution_count": null,
      "metadata": {
        "id": "YDOMITPHFsCv"
      },
      "outputs": [],
      "source": [
        "# Extraction des valeurs des caractéristiques  \n",
        "X_val = data.iloc[:, :].values\n",
        "\n",
        "# Elimination de \n",
        "X = X_val[:, :-1]\n",
        "y = X_val[:, -1]\n",
        "\n",
        "#Extraction de colonnes numériques  \n",
        "X = X[:, [1, 2, 7, 10,  13, 14]]\n",
        "\n",
        "# Remplacement de ? par des NaN\n",
        "X[[X == '?']] = np.nan  "
      ]
    },
    {
      "cell_type": "code",
      "execution_count": null,
      "metadata": {
        "id": "xjwA-_KOFsCw"
      },
      "outputs": [],
      "source": [
        "# Elimination des lignes contenant de NaN\n",
        "X = X.astype(float)\n",
        "d = np.concatenate((X, y.reshape(-1,1)), axis=1)\n",
        "d = pd.DataFrame(d, columns=['A2', 'A3', 'A8', 'A11', 'A14', 'A15', 'A16']) \n",
        "d = d.dropna()\n",
        "\n",
        "X = d.iloc[:, :-1].values.astype(float)\n",
        "d['A16'] = d['A16'].map({'+': 1, '-': 0}).astype(float)\n",
        "y = d.iloc[:, -1].values.astype(float)"
      ]
    },
    {
      "cell_type": "code",
      "execution_count": null,
      "metadata": {
        "scrolled": true,
        "id": "G8rdWHD8FsCw"
      },
      "outputs": [],
      "source": [
        "# Comptage du nombre d'éléments positifs et negatifs\n",
        "n_neg = sum(y >= 1 )\n",
        "n_pos = sum(y <= 0)\n",
        "print(f'Shape X_data: {X.shape} \\nShape Y_data: {X.shape}')\n",
        "print(f'nombre des éléments positifs: {n_pos}')\n",
        "print(f'nombre des éléments négatifs: {n_neg}')"
      ]
    },
    {
      "cell_type": "code",
      "execution_count": null,
      "metadata": {
        "scrolled": false,
        "id": "4JONTuigFsCw"
      },
      "outputs": [],
      "source": [
        "plt.hist(y, bins=2)"
      ]
    },
    {
      "cell_type": "code",
      "execution_count": null,
      "metadata": {
        "id": "M4i_oq-nFsCx"
      },
      "outputs": [],
      "source": [
        "clfs = {\n",
        "    'RF': RandomForestClassifier(n_estimators=50, random_state=1),\n",
        "    'KNN': KNeighborsClassifier(n_neighbors=10),\n",
        "    'DT': DecisionTreeClassifier(), \n",
        "    'MLP': MLPClassifier(hidden_layer_sizes=(20, 10), random_state=1),\n",
        "    'B': BaggingClassifier(n_estimators=50),\n",
        "    'ADA': AdaBoostClassifier(n_estimators=50),\n",
        "    'NB': GaussianNB()\n",
        "}\n"
      ]
    },
    {
      "cell_type": "code",
      "execution_count": null,
      "metadata": {
        "id": "jR-crP1YFsCx"
      },
      "outputs": [],
      "source": [
        "run_classifiers(clfs, X, y)"
      ]
    },
    {
      "cell_type": "markdown",
      "metadata": {
        "id": "y6pwI_AtFsCx"
      },
      "source": [
        "<strong style=\"color:red\">Note</strong>: \n",
        "* Le meilleur modèle est Adaboost, il obtient les meilleurs resultats dans tous les critères (precision, accuracy, auc).\n",
        "* Pour les autres modèles, on peut aussi remarqués une regression au niveau de la precision et les autres critères.\n",
        "* Le moins MLP est très sensible à la variabilité (Variance) des données que les autres algorithmes utilisés. "
      ]
    },
    {
      "cell_type": "code",
      "execution_count": null,
      "metadata": {
        "id": "ga4ICz9xFsCx"
      },
      "outputs": [],
      "source": [
        "# Normalisation d el'entrée\n",
        "min_obj = StandardScaler().fit(X)\n",
        "X = min_obj.transform(X)"
      ]
    },
    {
      "cell_type": "code",
      "execution_count": null,
      "metadata": {
        "scrolled": true,
        "id": "KLQdEbFoFsCy"
      },
      "outputs": [],
      "source": [
        "run_classifiers(clfs, X, y)"
      ]
    },
    {
      "cell_type": "markdown",
      "metadata": {
        "id": "15-SETUJFsCy"
      },
      "source": [
        "### Traitement de données manquantes"
      ]
    },
    {
      "cell_type": "code",
      "execution_count": null,
      "metadata": {
        "id": "a-t_85HdFsCy"
      },
      "outputs": [],
      "source": [
        "from sklearn.impute import SimpleImputer\n",
        "from sklearn.preprocessing import OneHotEncoder"
      ]
    },
    {
      "cell_type": "code",
      "execution_count": null,
      "metadata": {
        "id": "acBvTRWjFsCy"
      },
      "outputs": [],
      "source": [
        "# Traitement de variables catégorielles\n",
        "X_cat = np.copy(X_val[:, [0,3, 4, 5, 6, 8, 9, 11, 12]])\n",
        "\n",
        "for col_id in range(X_cat.shape[1]):\n",
        "    unique_val, val_idx = np.unique(X_cat[:, col_id], return_inverse = True)\n",
        "    X_cat[:, col_id] = val_idx\n",
        "    \n",
        "imp_cat = SimpleImputer(missing_values=0, strategy='most_frequent')\n",
        "X_cat[:, range(5)] = imp_cat.fit_transform(X_cat[:, range(5)])\n",
        "X_cat_bin = OneHotEncoder().fit_transform(X_cat).toarray()\n"
      ]
    },
    {
      "cell_type": "code",
      "execution_count": null,
      "metadata": {
        "id": "acawDu64FsCy"
      },
      "outputs": [],
      "source": [
        "# Traitement de variables numeriques\n",
        "X_num = np.copy(X_val[:, [1, 2, 7, 10,  13, 14]])\n",
        "X_num[X_num == '?'] = np.nan\n",
        "X_num = X_num.astype(float)\n",
        "\n",
        "imp_num = SimpleImputer(missing_values=np.nan, strategy='mean')\n",
        "X_num = imp_num.fit_transform(X_num)"
      ]
    },
    {
      "cell_type": "code",
      "execution_count": null,
      "metadata": {
        "id": "gWPA9TL0FsCz"
      },
      "outputs": [],
      "source": [
        "#Construction de votre jeu de données\n",
        "X = np.concatenate((X_num, X_cat_bin), axis=1)"
      ]
    },
    {
      "cell_type": "code",
      "execution_count": null,
      "metadata": {
        "id": "qHWxu343FsCz"
      },
      "outputs": [],
      "source": [
        "data['A16'] = data['A16'].map({'+': 1, '-': 0}).astype(float)\n",
        "y = data.iloc[:, -1].values.astype(float)\n",
        "y[y == np.NaN] = 1."
      ]
    },
    {
      "cell_type": "code",
      "execution_count": null,
      "metadata": {
        "id": "GE8060U-FsCz"
      },
      "outputs": [],
      "source": [
        "run_classifiers(clfs, X, y)"
      ]
    },
    {
      "cell_type": "code",
      "execution_count": null,
      "metadata": {
        "id": "YP0VvKRQFsCz"
      },
      "outputs": [],
      "source": [
        "# Resultats\n",
        "df"
      ]
    },
    {
      "cell_type": "code",
      "execution_count": null,
      "metadata": {
        "id": "hGunEJj3FsC0"
      },
      "outputs": [],
      "source": [
        "# Normalisation\n",
        "min_obj = StandardScaler().fit(X_num)\n",
        "X_num = min_obj.transform(X_num)"
      ]
    },
    {
      "cell_type": "code",
      "execution_count": null,
      "metadata": {
        "id": "iD9Uc-csFsC0"
      },
      "outputs": [],
      "source": [
        "#Construction de votre jeu de données\n",
        "X = np.concatenate((X_num, X_cat_bin), axis=1)"
      ]
    },
    {
      "cell_type": "code",
      "execution_count": null,
      "metadata": {
        "id": "vBBe4NDGFsC0"
      },
      "outputs": [],
      "source": [
        "df = run_classifiers(clfs, X, y)"
      ]
    },
    {
      "cell_type": "code",
      "execution_count": null,
      "metadata": {
        "id": "lpnR72pKFsC0"
      },
      "outputs": [],
      "source": [
        "# Resultats\n",
        "df"
      ]
    },
    {
      "cell_type": "markdown",
      "metadata": {
        "id": "ySsKHzIvFsC0"
      },
      "source": [
        "## III Apprentissage supervisé sur des données textuelles : Feature engineering et Classification"
      ]
    },
    {
      "cell_type": "code",
      "execution_count": null,
      "metadata": {
        "id": "fmU37ggjFsC1"
      },
      "outputs": [],
      "source": [
        "data_sms = pd.read_csv('SMSSpamCollection.data', sep='\\t', names=['category', 'sms']) "
      ]
    },
    {
      "cell_type": "code",
      "execution_count": null,
      "metadata": {
        "id": "nDlyWCoMFsC1"
      },
      "outputs": [],
      "source": [
        "data_sms.head(10)"
      ]
    },
    {
      "cell_type": "code",
      "execution_count": null,
      "metadata": {
        "id": "G1DiRttQFsC1"
      },
      "outputs": [],
      "source": [
        "# Dictionnaire d'algorithmes à comparer \n",
        "clfs = {\n",
        "    'RF': RandomForestClassifier(n_estimators=50, random_state=1),\n",
        "    'KNN': KNeighborsClassifier(n_neighbors=10),\n",
        "    'DT': DecisionTreeClassifier(), \n",
        "    'MLP': MLPClassifier(hidden_layer_sizes=(20, 10), random_state=1),\n",
        "    'B': BaggingClassifier(n_estimators=50),\n",
        "    'ADA': AdaBoostClassifier(n_estimators=50),\n",
        "    'NB': GaussianNB()\n",
        "}\n"
      ]
    },
    {
      "cell_type": "code",
      "execution_count": null,
      "metadata": {
        "id": "jAiljGoZFsC1"
      },
      "outputs": [],
      "source": [
        "Y_train = data_sms['category'].map({'ham': 1, 'spam': 0}).values.astype(float)\n",
        "X_train = data_sms.iloc[:, -1].values"
      ]
    },
    {
      "cell_type": "code",
      "execution_count": null,
      "metadata": {
        "id": "JQUm7VA2FsC1"
      },
      "outputs": [],
      "source": [
        "# Using CountVEctorizer\n",
        "vectorizer = CountVectorizer()\n",
        "\n",
        "X_train = data_sms.iloc[:, -1].values\n",
        "\n",
        "X_train_vect = vectorizer.fit_transform(X_train)\n",
        "\n",
        "\n",
        "df = run_classifiers(clfs, X_train_vect, Y_train)\n",
        "\n",
        "print(df)"
      ]
    },
    {
      "cell_type": "code",
      "source": [
        "df"
      ],
      "metadata": {
        "id": "sPiNoIaxM6rt"
      },
      "execution_count": null,
      "outputs": []
    },
    {
      "cell_type": "code",
      "execution_count": null,
      "metadata": {
        "id": "3oCQnt0tFsC2"
      },
      "outputs": [],
      "source": [
        "# Using Tf–idf term weighting\n",
        "tfd = TfidfVectorizer(max_features=1000, stop_words=\"english\")\n",
        "\n",
        "X_train = data_sms.iloc[:, -1].values\n",
        "\n",
        "X_train_tfd = tfd.fit_transform(X_train)\n",
        "\n",
        "run_classifiers(clfs, X_train_tfd, Y_train)\n"
      ]
    },
    {
      "cell_type": "code",
      "source": [
        "df"
      ],
      "metadata": {
        "id": "ss7g6EqTOLcT"
      },
      "execution_count": null,
      "outputs": []
    },
    {
      "cell_type": "code",
      "execution_count": null,
      "metadata": {
        "id": "aqZYidPHFsC2"
      },
      "outputs": [],
      "source": [
        "# Using Truncated\n",
        "svd = TruncatedSVD(n_components=15)\n",
        "\n",
        "X_train_svd = svd.fit_transform(X_train_tfd)\n",
        "\n",
        "df = run_classifiers(clfs, X_train_vect, Y_train)"
      ]
    },
    {
      "cell_type": "code",
      "source": [
        "df"
      ],
      "metadata": {
        "id": "LiItmzFgP9ok"
      },
      "execution_count": null,
      "outputs": []
    },
    {
      "cell_type": "code",
      "execution_count": null,
      "metadata": {
        "id": "_9wO1qbLFsC2"
      },
      "outputs": [],
      "source": [
        "# Pipeline\n",
        "pipeline = Pipeline([(\"CountTFVectorizer\", TfidfVectorizer(max_features=1000, stop_words=\"english\")), \n",
        "                     (\"RandomForest\", RandomForestClassifier(n_estimators=50))])"
      ]
    },
    {
      "cell_type": "code",
      "execution_count": null,
      "metadata": {
        "id": "bpw20aCfFsC3"
      },
      "outputs": [],
      "source": []
    }
  ],
  "metadata": {
    "kernelspec": {
      "display_name": "Python 3",
      "language": "python",
      "name": "python3"
    },
    "language_info": {
      "codemirror_mode": {
        "name": "ipython",
        "version": 3
      },
      "file_extension": ".py",
      "mimetype": "text/x-python",
      "name": "python",
      "nbconvert_exporter": "python",
      "pygments_lexer": "ipython3",
      "version": "3.8.5"
    },
    "colab": {
      "provenance": []
    },
    "accelerator": "GPU",
    "gpuClass": "standard"
  },
  "nbformat": 4,
  "nbformat_minor": 0
}